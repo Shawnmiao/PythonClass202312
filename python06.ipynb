{
 "cells": [
  {
   "cell_type": "markdown",
   "metadata": {},
   "source": [
    "## 6.类"
   ]
  },
  {
   "cell_type": "markdown",
   "metadata": {},
   "source": [
    "面向对象编程——Object Oriented Programming，简称OOP，是一种程序设计思想。OOP把对象作为程序的基本单元，一个对象包含了数据和操作数据的函数。\n",
    "\n",
    "面向过程的程序设计把计算机程序视为一系列的命令集合，即一组函数的顺序执行。为了简化程序设计，面向过程把函数继续切分为子函数，即把大块函数通过切割成小块函数来降低系统的复杂度。\n",
    "\n",
    "而面向对象的程序设计把计算机程序视为一组对象的集合，而每个对象都可以接收其他对象发过来的消息，并处理这些消息，计算机程序的执行就是一系列消息在各个对象之间传递。\n",
    "\n",
    "在Python中，所有数据类型都可以视为对象，当然也可以自定义对象。自定义的对象数据类型就是面向对象中的类（Class）的概念。"
   ]
  },
  {
   "cell_type": "code",
   "execution_count": 1,
   "metadata": {},
   "outputs": [
    {
     "name": "stdout",
     "output_type": "stream",
     "text": [
      "zhangsan's score is 78\n",
      "lisi's score is 88\n"
     ]
    }
   ],
   "source": [
    "#面向过程\n",
    "person1 = { 'name': 'zhangsan', 'score': 78 }\n",
    "person2 = { 'name': 'lisi', 'score': 88 }\n",
    "def print_info(person):\n",
    "    print('{}\\'s score is {}'.format(person['name'],person['score']))\n",
    "print_info(person1)\n",
    "print_info(person2)"
   ]
  },
  {
   "cell_type": "code",
   "execution_count": 5,
   "metadata": {},
   "outputs": [
    {
     "name": "stdout",
     "output_type": "stream",
     "text": [
      "zhangsan's score is 78\n",
      "lisi's score is 88\n"
     ]
    }
   ],
   "source": [
    "#面向对象,注意类的起名方式与函数不同\n",
    "class StdScore():\n",
    "\n",
    "    def __init__(self, name, score):\n",
    "        self.name = name\n",
    "        self.score = score\n",
    "\n",
    "    def print_info(self):\n",
    "        print('{}\\'s score is {}'.format(self.name,self.score))\n",
    "zhangsan = StdScore('zhangsan', 78)\n",
    "lisi= StdScore('lisi', 88)\n",
    "zhangsan.print_info()\n",
    "lisi.print_info()"
   ]
  },
  {
   "cell_type": "code",
   "execution_count": 6,
   "metadata": {},
   "outputs": [
    {
     "name": "stdout",
     "output_type": "stream",
     "text": [
      "zhangsan's score is 78\n"
     ]
    }
   ],
   "source": [
    "#面向对象,注意类的起名方式与函数不同\n",
    "class StdScore():\n",
    "\n",
    "    def __init__(self):\n",
    "        self.name = 'zhangsan'\n",
    "        self.score = 78\n",
    "\n",
    "    def print_info(self):\n",
    "        print('{}\\'s score is {}'.format(self.name,self.score))\n",
    "zhangsan = StdScore()\n",
    "zhangsan.print_info()\n"
   ]
  },
  {
   "cell_type": "markdown",
   "metadata": {},
   "source": [
    "## 6.1定义和使用类"
   ]
  },
  {
   "attachments": {
    "image.png": {
     "image/png": "[encoded data removed]"
    }
   },
   "cell_type": "markdown",
   "metadata": {},
   "source": [
    "![image.png](attachment:image.png)\n"
   ]
  },
  {
   "cell_type": "code",
   "execution_count": 10,
   "metadata": {},
   "outputs": [],
   "source": [
    "class FirstClass():\n",
    "    \"\"\"This is my first class\"\"\"\n",
    "    pass"
   ]
  },
  {
   "cell_type": "code",
   "execution_count": 8,
   "metadata": {},
   "outputs": [
    {
     "name": "stdout",
     "output_type": "stream",
     "text": [
      "['__class__', '__delattr__', '__dict__', '__dir__', '__doc__', '__eq__', '__format__', '__ge__', '__getattribute__', '__getstate__', '__gt__', '__hash__', '__init__', '__init_subclass__', '__le__', '__lt__', '__module__', '__ne__', '__new__', '__reduce__', '__reduce_ex__', '__repr__', '__setattr__', '__sizeof__', '__str__', '__subclasshook__', '__weakref__']\n"
     ]
    }
   ],
   "source": [
    "print(dir(FirstClass))"
   ]
  },
  {
   "cell_type": "code",
   "execution_count": 2,
   "metadata": {},
   "outputs": [
    {
     "name": "stdout",
     "output_type": "stream",
     "text": [
      "This is my first class\n"
     ]
    }
   ],
   "source": [
    "print(FirstClass.__doc__)"
   ]
  },
  {
   "cell_type": "code",
   "execution_count": 5,
   "metadata": {},
   "outputs": [
    {
     "name": "stdout",
     "output_type": "stream",
     "text": [
      "Help on class FirstClass in module __main__:\n",
      "\n",
      "class FirstClass(builtins.object)\n",
      " |  This is my first class\n",
      " |  \n",
      " |  Data descriptors defined here:\n",
      " |  \n",
      " |  __dict__\n",
      " |      dictionary for instance variables (if defined)\n",
      " |  \n",
      " |  __weakref__\n",
      " |      list of weak references to the object (if defined)\n",
      "\n"
     ]
    }
   ],
   "source": [
    "help(FirstClass)"
   ]
  },
  {
   "cell_type": "code",
   "execution_count": 6,
   "metadata": {},
   "outputs": [
    {
     "name": "stdout",
     "output_type": "stream",
     "text": [
      "Help on FirstClass in module __main__ object:\n",
      "\n",
      "class FirstClass(builtins.object)\n",
      " |  This is my first class\n",
      " |  \n",
      " |  Data descriptors defined here:\n",
      " |  \n",
      " |  __dict__\n",
      " |      dictionary for instance variables (if defined)\n",
      " |  \n",
      " |  __weakref__\n",
      " |      list of weak references to the object (if defined)\n",
      "\n"
     ]
    }
   ],
   "source": [
    "myclass=FirstClass()\n",
    "help(myclass)"
   ]
  },
  {
   "cell_type": "markdown",
   "metadata": {},
   "source": [
    "## 6.2类的方法与属性"
   ]
  },
  {
   "cell_type": "markdown",
   "metadata": {},
   "source": [
    "### 6.2.1类的方法"
   ]
  },
  {
   "cell_type": "markdown",
   "metadata": {},
   "source": [
    "类中的方法定义和调用与函数定义和调用的方式基本相同，但方法的第一个参数必须是self，不能省略。"
   ]
  },
  {
   "cell_type": "code",
   "execution_count": 20,
   "metadata": {},
   "outputs": [
    {
     "name": "stdout",
     "output_type": "stream",
     "text": [
      "1000.0\n"
     ]
    }
   ],
   "source": [
    "class BankClass:\n",
    "    def loan(self,x):#贷款利息收入\n",
    "        loan_benefit=x*0.1\n",
    "        print(loan_benefit)\n",
    "    def save(self,y):\n",
    "        save_cost=y*0.05#存款利息付出\n",
    "        print(save_cost)\n",
    "bj_bank=BankClass()\n",
    "bj_bank.loan(10000)"
   ]
  },
  {
   "cell_type": "code",
   "execution_count": 25,
   "metadata": {},
   "outputs": [
    {
     "name": "stdout",
     "output_type": "stream",
     "text": [
      "250.0\n"
     ]
    }
   ],
   "source": [
    "bj_bank.save(5000)"
   ]
  },
  {
   "cell_type": "markdown",
   "metadata": {},
   "source": [
    "类中的方法既可以调用本类中的方法，也可以调用全局函数来完成相关任务。"
   ]
  },
  {
   "cell_type": "code",
   "execution_count": 34,
   "metadata": {},
   "outputs": [
    {
     "name": "stdout",
     "output_type": "stream",
     "text": [
      "present position is (-1,1)\n",
      "present position is (8,8)\n"
     ]
    }
   ],
   "source": [
    "class Dog:\n",
    "    def __init__(self,x,y):\n",
    "            self.x=x\n",
    "            self.y=y\n",
    "            self.output_point()#引用类的方法\n",
    "    def move(self,x,y):\n",
    "        self.x,self.y=abs_change(x,y)\n",
    "        self.x+=x\n",
    "        self.y+=y\n",
    "        self.output_point()\n",
    "    def output_point(self):\n",
    "        print('present position is ({},{})'.format(self.x,self.y))\n",
    "def abs_change(x,y):\n",
    "    return(abs(x),abs(y))\n",
    "dog_1=Dog(-1,1)\n",
    "dog_1.move(4,4)"
   ]
  },
  {
   "cell_type": "markdown",
   "metadata": {},
   "source": [
    "### 6.2.2类的属性"
   ]
  },
  {
   "cell_type": "code",
   "execution_count": 35,
   "metadata": {},
   "outputs": [],
   "source": [
    "class Student(object):\n",
    "    def __init__(self, name):\n",
    "        self.name = name\n",
    "\n",
    "s = Student('Bob')\n",
    "s.score = 90\n"
   ]
  },
  {
   "cell_type": "code",
   "execution_count": 36,
   "metadata": {},
   "outputs": [
    {
     "name": "stdout",
     "output_type": "stream",
     "text": [
      "Bob\n"
     ]
    }
   ],
   "source": [
    "print(s.name)"
   ]
  },
  {
   "cell_type": "code",
   "execution_count": 37,
   "metadata": {},
   "outputs": [
    {
     "name": "stdout",
     "output_type": "stream",
     "text": [
      "90\n"
     ]
    }
   ],
   "source": [
    "print(s.score)"
   ]
  },
  {
   "cell_type": "code",
   "execution_count": 38,
   "metadata": {},
   "outputs": [
    {
     "name": "stdout",
     "output_type": "stream",
     "text": [
      "wangjian\n",
      "28\n"
     ]
    }
   ],
   "source": [
    "class person(object):\n",
    "    tall = 180\n",
    "    hobbies = ['football','basketball']\n",
    "    def __init__(self, name, age,weight):\n",
    "        self.name = name\n",
    "        self.age = age\n",
    "        self.weight = weight\n",
    "    def info(self):\n",
    "        print('%s is %s weights %s'%(self.name,self.age,self.weight))\n",
    "\n",
    "wj=person('wangjian',28,78)\n",
    "print(wj.name)\n",
    "print(wj.age)\n",
    "\n",
    "\n"
   ]
  },
  {
   "cell_type": "code",
   "execution_count": 39,
   "metadata": {},
   "outputs": [
    {
     "data": {
      "text/plain": [
       "['__class__',\n",
       " '__delattr__',\n",
       " '__dict__',\n",
       " '__dir__',\n",
       " '__doc__',\n",
       " '__eq__',\n",
       " '__format__',\n",
       " '__ge__',\n",
       " '__getattribute__',\n",
       " '__getstate__',\n",
       " '__gt__',\n",
       " '__hash__',\n",
       " '__init__',\n",
       " '__init_subclass__',\n",
       " '__le__',\n",
       " '__lt__',\n",
       " '__module__',\n",
       " '__ne__',\n",
       " '__new__',\n",
       " '__reduce__',\n",
       " '__reduce_ex__',\n",
       " '__repr__',\n",
       " '__setattr__',\n",
       " '__sizeof__',\n",
       " '__str__',\n",
       " '__subclasshook__',\n",
       " '__weakref__',\n",
       " 'hobbies',\n",
       " 'info',\n",
       " 'tall']"
      ]
     },
     "execution_count": 39,
     "metadata": {},
     "output_type": "execute_result"
    }
   ],
   "source": [
    "dir(person)"
   ]
  },
  {
   "cell_type": "code",
   "execution_count": 40,
   "metadata": {},
   "outputs": [
    {
     "name": "stdout",
     "output_type": "stream",
     "text": [
      "180\n"
     ]
    }
   ],
   "source": [
    "print(wj.tall)"
   ]
  },
  {
   "cell_type": "code",
   "execution_count": 41,
   "metadata": {},
   "outputs": [
    {
     "data": {
      "text/plain": [
       "['football', 'basketball', 'shoes']"
      ]
     },
     "execution_count": 41,
     "metadata": {},
     "output_type": "execute_result"
    }
   ],
   "source": [
    "wj.hobbies.append('shoes')\n",
    "wj.hobbies"
   ]
  },
  {
   "cell_type": "code",
   "execution_count": null,
   "metadata": {},
   "outputs": [],
   "source": [
    "class DogNew():\n",
    "    def __init__(b,name,color):\n",
    "        b.name=name\n",
    "        b.color=color\n",
    "    def bitefood(b,food=\"meat\"):\n",
    "        print(food)\n",
    "    def __call__(b,food=\"meat\"):\n",
    "        b.bitefood(food)\n",
    "dog=DogNew(\"Tom\",\"white\")\n",
    "dog(\"lamb\")"
   ]
  },
  {
   "cell_type": "markdown",
   "metadata": {},
   "source": [
    "## 6.3类成员方法与静态方法"
   ]
  },
  {
   "cell_type": "markdown",
   "metadata": {},
   "source": [
    "静态方法定义时应使用装饰器@staticmethod进行装饰，是没有默认参数的。类方法定义时应使用装饰器@classmethod进行装饰，必须有默认参数“cls”。他们的调用方式可以直接由类名进行调用，调用前也可以不实例化类，当然也可以用该类的任一实例来进行调用。"
   ]
  },
  {
   "cell_type": "code",
   "execution_count": 1,
   "metadata": {
    "scrolled": true
   },
   "outputs": [
    {
     "name": "stdout",
     "output_type": "stream",
     "text": [
      "staticmethod\n",
      "classmethod\n",
      "staticmethod\n",
      "classmethod\n"
     ]
    }
   ],
   "source": [
    "class TestMethod:\n",
    "    @staticmethod\n",
    "    def static_method():\n",
    "        print('staticmethod')\n",
    "    @classmethod\n",
    "    def class_method(cls):\n",
    "        print('classmethod')\n",
    "TestMethod.static_method()\n",
    "TestMethod.class_method()\n",
    "tm=TestMethod()\n",
    "tm.static_method()\n",
    "tm.class_method()"
   ]
  },
  {
   "cell_type": "markdown",
   "metadata": {},
   "source": [
    "## 6.4类的继承"
   ]
  },
  {
   "cell_type": "markdown",
   "metadata": {},
   "source": [
    "### 6.4.1一般继承"
   ]
  },
  {
   "cell_type": "markdown",
   "metadata": {},
   "source": [
    "子类继承了父类之后，就具有了父类的属性和方法，但不能继承父类的私有属性和私有方法。"
   ]
  },
  {
   "cell_type": "code",
   "execution_count": 2,
   "metadata": {},
   "outputs": [],
   "source": [
    "class Dog:\n",
    "    def __init__(self,x=0,y=0,color='yellow'):\n",
    "        self.x=x\n",
    "        self.y=0\n",
    "        self.color=color\n",
    "    def dog_run(self,x,y):\n",
    "        self.x=x\n",
    "        self.y=y\n",
    "        print('running')\n",
    "        self.info()\n",
    "    def info(self):\n",
    "        print('present position:(%d,%d)'%(self.x,self.y))\n",
    "    def attack(self):\n",
    "        print('bite')"
   ]
  },
  {
   "cell_type": "code",
   "execution_count": 3,
   "metadata": {},
   "outputs": [],
   "source": [
    "class FlyDog(Dog):\n",
    "    def attack(self):\n",
    "        print('kick')\n",
    "    def fly(self,x,y):\n",
    "        self.x=x+20\n",
    "        self.y=y+20\n",
    "        self.info()"
   ]
  },
  {
   "cell_type": "code",
   "execution_count": 4,
   "metadata": {},
   "outputs": [
    {
     "name": "stdout",
     "output_type": "stream",
     "text": [
      "running\n",
      "present position:(2,3)\n",
      "present position:(24,25)\n",
      "kick\n"
     ]
    }
   ],
   "source": [
    "flydog=FlyDog(color='white')\n",
    "flydog.dog_run(2,3)\n",
    "flydog.fly(4,5)\n",
    "flydog.attack()"
   ]
  },
  {
   "cell_type": "markdown",
   "metadata": {},
   "source": [
    "### 6.4.2多重继承"
   ]
  },
  {
   "cell_type": "code",
   "execution_count": 5,
   "metadata": {},
   "outputs": [
    {
     "name": "stdout",
     "output_type": "stream",
     "text": [
      "byd Run on land\n",
      "gz01 Running in the sea\n",
      "toby start Transfiguration...\n",
      "1 1 1\n"
     ]
    }
   ],
   "source": [
    "class Car:\n",
    "    #描述汽车\n",
    "    call_car_record = 0 #记录调用次数\n",
    "    def __init__(self, car_name):\n",
    "        self.car_name = car_name\n",
    "\n",
    "    def land_run(self):\n",
    "        print(\"{0} Run on land\".format(self.car_name))\n",
    "        self.call_car_record += 1\n",
    "\n",
    "class Ship:\n",
    "    #描述轮船\n",
    "    call_ship_record = 0 #记录调用次数\n",
    "    def __init__(self, ship_name):\n",
    "        self.ship_name = ship_name\n",
    "\n",
    "    def running_in_sea(self):\n",
    "        print(\"{0} Running in the sea\".format(self.ship_name))\n",
    "        self.call_ship_record += 1\n",
    "\n",
    "class Transformers(Car, Ship):\n",
    "    #变形金刚\n",
    "    call_tran_record = 0 #记录调用次数\n",
    "    def __init__(self, car_name, ship_name, tran_name):\n",
    "        Car.__init__(self, car_name)\n",
    "        Ship.__init__(self, ship_name)\n",
    "        self.tran_name = tran_name\n",
    "\n",
    "    def transfiguration(self):\n",
    "        print(\"{0} start Transfiguration...\".format(self.tran_name))\n",
    "        self.call_tran_record += 1\n",
    "\n",
    "if __name__ == '__main__':\n",
    "\n",
    "    t = Transformers(\"byd\", \"gz01\", \"toby\")\n",
    "    t.land_run()\n",
    "    t.running_in_sea()\n",
    "    t.transfiguration()\n",
    "    print(t.call_tran_record, t.call_car_record, t.call_ship_record)"
   ]
  },
  {
   "cell_type": "code",
   "execution_count": null,
   "metadata": {},
   "outputs": [],
   "source": [
    "print('one')\n",
    "if __name__ == '__main__':\n",
    "    print('two')"
   ]
  },
  {
   "cell_type": "markdown",
   "metadata": {},
   "source": [
    "### 练习题"
   ]
  },
  {
   "cell_type": "markdown",
   "metadata": {},
   "source": [
    "假设某游戏项目中需要定义一个精灵对象，其所需的属性有体重、颜色、高度、能量；具有行走、跳跃、进食能力，且会在行走和跳跃时不断损耗能量，而进食则会增加能量。请根据描述定义这个精灵类。"
   ]
  },
  {
   "cell_type": "code",
   "execution_count": 9,
   "metadata": {},
   "outputs": [],
   "source": [
    "class Ghost:\n",
    "    def __init__(self,weight,color,height,energy_value):\n",
    "        self.weight=weight\n",
    "        self.color=color\n",
    "        self.height=height\n",
    "        self.energy_value=energy_value\n",
    "    def move(self,x=0,y=0):\n",
    "        print('the position before moving is:({},{})'.format(x,y))\n",
    "        x+=1\n",
    "        y+=1\n",
    "        print('the position after moving is:({},{})'.format(x,y))\n",
    "        print('my current energy value after moving is:%d'%(self.energy_value-1))\n",
    "    def jump(self, z=0):\n",
    "        print('the position before jumping is:(z={})'.format(z))\n",
    "        print('my current energy value after jumping is:%d'%(self.energy_value-2))\n",
    "    def eat(self):\n",
    "        self.energy_value+=10\n",
    "        print('my current energy value after eating is:%d'%self.energy_value)\n",
    "        \n",
    "        \n",
    "    "
   ]
  },
  {
   "cell_type": "code",
   "execution_count": null,
   "metadata": {},
   "outputs": [],
   "source": [
    "ghost1=Ghost(30,'white',height=120,energy_value=35)"
   ]
  },
  {
   "cell_type": "code",
   "execution_count": null,
   "metadata": {
    "scrolled": true
   },
   "outputs": [],
   "source": [
    "ghost1.jump(0)"
   ]
  },
  {
   "cell_type": "code",
   "execution_count": null,
   "metadata": {
    "scrolled": true
   },
   "outputs": [],
   "source": [
    "ghost1.move()"
   ]
  },
  {
   "cell_type": "code",
   "execution_count": null,
   "metadata": {},
   "outputs": [],
   "source": [
    "ghost1.eat()"
   ]
  },
  {
   "cell_type": "code",
   "execution_count": null,
   "metadata": {},
   "outputs": [],
   "source": []
  }
 ],
 "metadata": {
  "kernelspec": {
   "display_name": "Python 3 (ipykernel)",
   "language": "python",
   "name": "python3"
  },
  "language_info": {
   "codemirror_mode": {
    "name": "ipython",
    "version": 3
   },
   "file_extension": ".py",
   "mimetype": "text/x-python",
   "name": "python",
   "nbconvert_exporter": "python",
   "pygments_lexer": "ipython3",
   "version": "3.11.4"
  }
 },
 "nbformat": 4,
 "nbformat_minor": 4
}
